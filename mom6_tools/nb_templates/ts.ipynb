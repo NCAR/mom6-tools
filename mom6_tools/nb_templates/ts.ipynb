{
 "cells": [
  {
   "cell_type": "markdown",
   "id": "93b7f37d-9e43-4040-9650-65c9a12d6a59",
   "metadata": {
    "editable": true,
    "slideshow": {
     "slide_type": ""
    },
    "tags": []
   },
   "source": [
    "# template"
   ]
  },
  {
   "cell_type": "code",
   "execution_count": null,
   "id": "3ef91a67-a0c0-4e7e-b89d-cc06c5fefbf5",
   "metadata": {
    "editable": true,
    "slideshow": {
     "slide_type": ""
    },
    "tags": []
   },
   "outputs": [],
   "source": [
    "from IPython.display import display, Markdown"
   ]
  },
  {
   "cell_type": "code",
   "execution_count": null,
   "id": "dce4db04-3953-4356-b4cd-7f811e6ac563",
   "metadata": {},
   "outputs": [],
   "source": [
    "# Dynamically generate markdown content\n",
    "markdown_text = f\" This notebook compares area-weighted mean and, in some cases, integral time series for {variable} in different basins.\"\n",
    "\n",
    "# Display the updated markdown content\n",
    "display(Markdown(markdown_text))"
   ]
  },
  {
   "cell_type": "code",
   "execution_count": null,
   "id": "13834ab8-5413-4cd4-8b72-d02389459983",
   "metadata": {
    "editable": true,
    "papermill": {
     "duration": 0.030149,
     "end_time": "2025-03-11T17:16:20.789948",
     "exception": false,
     "start_time": "2025-03-11T17:16:20.759799",
     "status": "completed"
    },
    "slideshow": {
     "slide_type": ""
    },
    "tags": []
   },
   "outputs": [],
   "source": [
    "%load_ext autoreload\n",
    "%autoreload 2"
   ]
  },
  {
   "cell_type": "code",
   "execution_count": null,
   "id": "ca374cc2",
   "metadata": {
    "editable": true,
    "papermill": {
     "duration": 10.382698,
     "end_time": "2025-03-11T17:16:31.174459",
     "exception": false,
     "start_time": "2025-03-11T17:16:20.791761",
     "status": "completed"
    },
    "slideshow": {
     "slide_type": ""
    },
    "tags": []
   },
   "outputs": [],
   "source": [
    "%%capture \n",
    "# comment above line to see details about the run(s) displayed\n",
    "import sys, os\n",
    "sys.path.append(os.path.abspath(\"..\"))\n",
    "from misc import *\n",
    "import glob\n",
    "print(\"Last update:\", date.today())\n",
    "%matplotlib inline"
   ]
  },
  {
   "cell_type": "code",
   "execution_count": null,
   "id": "9f7b0baf-fc8c-42a2-8f85-394752748d3c",
   "metadata": {
    "editable": true,
    "slideshow": {
     "slide_type": ""
    },
    "tags": []
   },
   "outputs": [],
   "source": [
    "# figure size\n",
    "fs = (10,4)"
   ]
  },
  {
   "cell_type": "code",
   "execution_count": null,
   "id": "7a76c19e-4617-421e-9912-6e37b8b411cd",
   "metadata": {
    "papermill": {
     "duration": 0.302475,
     "end_time": "2025-03-11T17:16:31.480856",
     "exception": false,
     "start_time": "2025-03-11T17:16:31.178381",
     "status": "completed"
    },
    "tags": []
   },
   "outputs": [],
   "source": [
    "# load data\n",
    "ds = []\n",
    "for c, p in zip(casename, ocn_path):\n",
    "  file = glob.glob(p+'{}.native.{}.??????-??????.nc'.format(c, variable))[0]\n",
    "  ds.append(xr.open_dataset(file))"
   ]
  },
  {
   "cell_type": "code",
   "execution_count": 1,
   "id": "b0fd49de-fa27-4501-9d57-990fc8d28878",
   "metadata": {},
   "outputs": [],
   "source": [
    "def ts_plot(variable, ds, fs, label, reg='Global'):\n",
    "    \"\"\"\n",
    "    Plot time series of regional means and integrals for a given variable from a list of datasets.\n",
    "\n",
    "    Parameters\n",
    "    ----------\n",
    "    variable : str\n",
    "        Name of the variable to plot (prefix for \"_mean\" and \"_int\" variables in dataset).\n",
    "    ds : list of xarray.Dataset\n",
    "        List of datasets, each containing time series data for the specified variable with\n",
    "        variables named as `<variable>_mean` and optionally `<variable>_int`, and with\n",
    "        attributes 'long_name', 'units_mean', and optionally 'units_int'.\n",
    "    fs : tuple\n",
    "        Figure size (width, height) in inches for the plots.\n",
    "    label : list of str\n",
    "        List of labels corresponding to each dataset, used for the legend.\n",
    "    reg : str, optional\n",
    "        Name of the region to select for plotting (default is 'Global').\n",
    "\n",
    "    Returns\n",
    "    -------\n",
    "    None\n",
    "        Displays the plots but does not return any value.\n",
    "\n",
    "    Notes\n",
    "    -----\n",
    "    - This function creates one or two plots:\n",
    "        1. A time series of the variable's regional mean (`<variable>_mean`).\n",
    "        2. If available, a time series of the variable's regional integral (`<variable>_int`).\n",
    "    - The function expects each dataset to have attributes 'long_name', 'units_mean', and optionally 'units_int'.\n",
    "    - The same region name is applied across all datasets.\n",
    "    \"\"\"\n",
    "    \n",
    "    fig, ax = plt.subplots(nrows=1, ncols=1, figsize=fs)\n",
    "    for l, i in zip(label, range(len(label))):\n",
    "        ds[i][variable+\"_mean\"].sel(region=reg).plot(ax=ax, label=l, lw=3, linestyle=linestyle[i], color=color[i])\n",
    "    \n",
    "    long_name = ds[0].attrs['long_name']\n",
    "    ax.set_title(\"{}, {}\".format(reg, long_name))\n",
    "    ax.set_ylabel(variable+\"_mean, \" + ds[i].attrs['units_mean'])\n",
    "    ax.set_xlabel('Year')\n",
    "    ax.grid()\n",
    "    ax.legend(ncol=3, loc=1)\n",
    "    \n",
    "    if variable+\"_int\" in ds[0]:\n",
    "        fig, ax = plt.subplots(nrows=1, ncols=1, figsize=fs)\n",
    "        for l, i in zip(label, range(len(label))):\n",
    "            ds[i][variable+\"_int\"].sel(region=reg).plot(ax=ax, label=l, lw=3, linestyle=linestyle[i], color=color[i])\n",
    "\n",
    "        ax.set_title(\"{}, {}\".format(reg, long_name))\n",
    "        ax.set_ylabel(variable+\"_int, \" + ds[i].attrs['units_int'])\n",
    "        ax.set_xlabel('Year')\n",
    "        ax.grid()\n",
    "        ax.legend(ncol=3, loc=1)\n",
    "\n",
    "    return"
   ]
  },
  {
   "cell_type": "markdown",
   "id": "502465ab-ff8d-4a56-82eb-96eb140f2fb9",
   "metadata": {
    "papermill": {
     "duration": 0.002294,
     "end_time": "2025-03-11T17:16:31.485797",
     "exception": false,
     "start_time": "2025-03-11T17:16:31.483503",
     "status": "completed"
    },
    "tags": []
   },
   "source": [
    "## Global"
   ]
  },
  {
   "cell_type": "code",
   "execution_count": null,
   "id": "ea77f10f-3d7e-4191-a3d1-8bcd7318125c",
   "metadata": {
    "papermill": {
     "duration": 0.148071,
     "end_time": "2025-03-11T17:16:31.636081",
     "exception": false,
     "start_time": "2025-03-11T17:16:31.488010",
     "status": "completed"
    },
    "tags": []
   },
   "outputs": [],
   "source": [
    "reg = 'Global'\n",
    "ts_plot(variable, ds, fs, label, reg = reg)"
   ]
  },
  {
   "cell_type": "markdown",
   "id": "b8b4dc27-3be0-4973-8bdd-4a0de25e4316",
   "metadata": {
    "papermill": {
     "duration": 0.015372,
     "end_time": "2025-03-11T17:16:38.420091",
     "exception": false,
     "start_time": "2025-03-11T17:16:38.404719",
     "status": "completed"
    },
    "tags": []
   },
   "source": [
    "## PersianGulf"
   ]
  },
  {
   "cell_type": "code",
   "execution_count": null,
   "id": "11b61be4-fdcf-475c-a524-2a3ac8c76ecf",
   "metadata": {},
   "outputs": [],
   "source": [
    "reg = 'PersianGulf'\n",
    "ts_plot(variable, ds, fs, label, reg = reg)"
   ]
  },
  {
   "cell_type": "markdown",
   "id": "fa711e4f-4e29-4094-ada2-4ae38e234a82",
   "metadata": {},
   "source": [
    "## RedSea"
   ]
  },
  {
   "cell_type": "code",
   "execution_count": null,
   "id": "a40d43fe-7d25-414c-8d87-79517880d35f",
   "metadata": {},
   "outputs": [],
   "source": [
    "reg = 'RedSea'\n",
    "ts_plot(variable, ds, fs, label, reg = reg)"
   ]
  },
  {
   "cell_type": "markdown",
   "id": "88ad3620-a8da-4180-83d1-f39edfd5aae2",
   "metadata": {},
   "source": [
    "## BlackSea"
   ]
  },
  {
   "cell_type": "code",
   "execution_count": null,
   "id": "6e85f68d-eb4e-44fe-acba-84c08de56905",
   "metadata": {},
   "outputs": [],
   "source": [
    "reg = 'BlackSea'\n",
    "ts_plot(variable, ds, fs, label, reg = reg)"
   ]
  },
  {
   "cell_type": "markdown",
   "id": "9c5641d3-c954-411b-abee-d4825c4208ab",
   "metadata": {},
   "source": [
    "## MedSea"
   ]
  },
  {
   "cell_type": "code",
   "execution_count": null,
   "id": "67297917-8d56-4a6d-9d59-a478035429a1",
   "metadata": {},
   "outputs": [],
   "source": [
    "reg = 'MedSea'\n",
    "ts_plot(variable, ds, fs, label, reg = reg)"
   ]
  },
  {
   "cell_type": "markdown",
   "id": "0543bf55-997b-4ac3-b22b-76c7f52ee97b",
   "metadata": {},
   "source": [
    "## BalticSea"
   ]
  },
  {
   "cell_type": "code",
   "execution_count": null,
   "id": "198da03e-467e-49f3-b8a5-2a31ad3b9711",
   "metadata": {},
   "outputs": [],
   "source": [
    "reg = 'BalticSea'\n",
    "ts_plot(variable, ds, fs, label, reg = reg)"
   ]
  },
  {
   "cell_type": "markdown",
   "id": "44aa11d1-830c-45a8-9235-0a03ec35daa6",
   "metadata": {},
   "source": [
    "## HudsonBay"
   ]
  },
  {
   "cell_type": "code",
   "execution_count": null,
   "id": "0fa02937-1b4e-4ade-a803-d2994b12545f",
   "metadata": {},
   "outputs": [],
   "source": [
    "reg = 'HudsonBay'\n",
    "ts_plot(variable, ds, fs, label, reg = reg)"
   ]
  },
  {
   "cell_type": "markdown",
   "id": "e29ef839-e162-4ceb-927a-d82b7a59277e",
   "metadata": {},
   "source": [
    "## Arctic"
   ]
  },
  {
   "cell_type": "code",
   "execution_count": null,
   "id": "64880ae9-0688-4c3a-ab45-0e76d5284852",
   "metadata": {},
   "outputs": [],
   "source": [
    "reg = 'Arctic'\n",
    "ts_plot(variable, ds, fs, label, reg = reg)"
   ]
  },
  {
   "cell_type": "markdown",
   "id": "1de03483-3233-4881-86a7-06813ce0211f",
   "metadata": {},
   "source": [
    "## PacificOcean"
   ]
  },
  {
   "cell_type": "code",
   "execution_count": null,
   "id": "d8be41b0-a06e-4bac-ad2f-72b3dc32a3c1",
   "metadata": {},
   "outputs": [],
   "source": [
    "reg = 'PacificOcean'\n",
    "ts_plot(variable, ds, fs, label, reg = reg)"
   ]
  },
  {
   "cell_type": "markdown",
   "id": "1b5bb92f-04ee-4edb-844a-dc32285a3017",
   "metadata": {},
   "source": [
    "## AtlanticOcean "
   ]
  },
  {
   "cell_type": "code",
   "execution_count": null,
   "id": "c7a7a1b2-7665-4f42-aa57-3e8ccf255528",
   "metadata": {},
   "outputs": [],
   "source": [
    "reg = 'AtlanticOcean'\n",
    "ts_plot(variable, ds, fs, label, reg = reg)"
   ]
  },
  {
   "cell_type": "markdown",
   "id": "bfa1406b-88fb-4638-a11c-9b530c50e48b",
   "metadata": {},
   "source": [
    "## IndianOcean"
   ]
  },
  {
   "cell_type": "code",
   "execution_count": null,
   "id": "674dc694-f91c-48d8-8cf9-18a9dc35dd87",
   "metadata": {},
   "outputs": [],
   "source": [
    "reg = 'IndianOcean'\n",
    "ts_plot(variable, ds, fs, label, reg = reg)"
   ]
  },
  {
   "cell_type": "markdown",
   "id": "36a07721-9d05-42e2-b24d-a559f814478b",
   "metadata": {},
   "source": [
    "## SouthernOcean"
   ]
  },
  {
   "cell_type": "code",
   "execution_count": null,
   "id": "5f6bc7ed-e959-49ad-8916-e307249b43fc",
   "metadata": {},
   "outputs": [],
   "source": [
    "reg = 'SouthernOcean'\n",
    "ts_plot(variable, ds, fs, label, reg = reg)"
   ]
  },
  {
   "cell_type": "markdown",
   "id": "0b23cca5-e9a3-477a-a387-1c653c04989b",
   "metadata": {},
   "source": [
    "## LabSea"
   ]
  },
  {
   "cell_type": "code",
   "execution_count": null,
   "id": "51e70d80-7a39-4989-aecc-bd5016b324fa",
   "metadata": {},
   "outputs": [],
   "source": [
    "reg = 'LabSea'\n",
    "ts_plot(variable, ds, fs, label, reg = reg)"
   ]
  },
  {
   "cell_type": "markdown",
   "id": "8f01e1c4-7a2b-491f-a311-1c52f299f45b",
   "metadata": {},
   "source": [
    "## BaffinBay"
   ]
  },
  {
   "cell_type": "code",
   "execution_count": null,
   "id": "64bdc239-6eef-4838-93d4-340528c4cde1",
   "metadata": {},
   "outputs": [],
   "source": [
    "reg = 'BaffinBay'\n",
    "ts_plot(variable, ds, fs, label, reg = reg)"
   ]
  },
  {
   "cell_type": "markdown",
   "id": "5a24685a-397b-4381-bdfa-4bacdde702a8",
   "metadata": {},
   "source": [
    "## Maritime"
   ]
  },
  {
   "cell_type": "code",
   "execution_count": null,
   "id": "9215bd4f-3bb8-41b7-a4b5-98d228cedfc6",
   "metadata": {},
   "outputs": [],
   "source": [
    "reg = 'Maritime'\n",
    "ts_plot(variable, ds, fs, label, reg = reg)"
   ]
  },
  {
   "cell_type": "markdown",
   "id": "248dd205-fc5c-486c-b405-87109b2bf2f4",
   "metadata": {},
   "source": [
    "## SouthernOcean60S"
   ]
  },
  {
   "cell_type": "code",
   "execution_count": null,
   "id": "1bed67b9-8a1a-4852-b49d-9c646f161e85",
   "metadata": {},
   "outputs": [],
   "source": [
    "reg = 'SouthernOcean60S'\n",
    "ts_plot(variable, ds, fs, label, reg = reg)"
   ]
  },
  {
   "cell_type": "markdown",
   "id": "afe8fb58-ac12-49a8-bf4d-6f108d49d309",
   "metadata": {},
   "source": [
    "## EGreenlandIceland"
   ]
  },
  {
   "cell_type": "code",
   "execution_count": null,
   "id": "56262637-8837-49a4-969d-da4bc203a2b1",
   "metadata": {},
   "outputs": [],
   "source": [
    "reg = 'EGreenlandIceland'\n",
    "ts_plot(variable, ds, fs, label, reg = reg)"
   ]
  },
  {
   "cell_type": "markdown",
   "id": "d48518b7-cd5b-451e-8658-addee4bdb8cf",
   "metadata": {},
   "source": [
    "## GulfOfMexico"
   ]
  },
  {
   "cell_type": "code",
   "execution_count": null,
   "id": "c26c8ac6-187f-4649-bafa-47d69525784f",
   "metadata": {},
   "outputs": [],
   "source": [
    "reg = 'GulfOfMexico'\n",
    "ts_plot(variable, ds, fs, label, reg = reg)"
   ]
  }
 ],
 "metadata": {
  "kernelspec": {
   "display_name": "Python (mom6-tools)",
   "language": "python",
   "name": "mom6-tools"
  },
  "language_info": {
   "codemirror_mode": {
    "name": "ipython",
    "version": 3
   },
   "file_extension": ".py",
   "mimetype": "text/x-python",
   "name": "python",
   "nbconvert_exporter": "python",
   "pygments_lexer": "ipython3",
   "version": "3.11.9"
  },
  "papermill": {
   "default_parameters": {},
   "duration": 21.358555,
   "end_time": "2025-03-11T17:16:39.774891",
   "environment_variables": {},
   "exception": null,
   "input_path": "ssh.ipynb",
   "output_path": "ssh.ipynb",
   "parameters": {},
   "start_time": "2025-03-11T17:16:18.416336",
   "version": "2.6.0"
  }
 },
 "nbformat": 4,
 "nbformat_minor": 5
}
