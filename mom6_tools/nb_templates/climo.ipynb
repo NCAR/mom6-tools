{
 "cells": [
  {
   "cell_type": "markdown",
   "id": "93b7f37d-9e43-4040-9650-65c9a12d6a59",
   "metadata": {
    "editable": true,
    "papermill": {
     "duration": 0.007068,
     "end_time": "2025-04-04T16:23:51.334413",
     "exception": false,
     "start_time": "2025-04-04T16:23:51.327345",
     "status": "completed"
    },
    "slideshow": {
     "slide_type": ""
    },
    "tags": [
     "parameters"
    ]
   },
   "source": [
    "# template"
   ]
  },
  {
   "cell_type": "code",
   "execution_count": 1,
   "id": "ee297024",
   "metadata": {
    "editable": true,
    "papermill": {
     "duration": 0.009197,
     "end_time": "2025-04-04T16:23:51.346677",
     "exception": false,
     "start_time": "2025-04-04T16:23:51.337480",
     "status": "completed"
    },
    "slideshow": {
     "slide_type": ""
    },
    "tags": [
     "injected-parameters"
    ]
   },
   "outputs": [],
   "source": [
    "# Parameters\n",
    "variable = \"vo\"\n",
    "stream = \"z\"\n",
    "long_name = \"Sea Water Y Velocity\""
   ]
  },
  {
   "cell_type": "code",
   "execution_count": null,
   "id": "3ef91a67-a0c0-4e7e-b89d-cc06c5fefbf5",
   "metadata": {
    "editable": true,
    "papermill": {
     "duration": 0.010167,
     "end_time": "2025-04-04T16:23:51.359736",
     "exception": false,
     "start_time": "2025-04-04T16:23:51.349569",
     "status": "completed"
    },
    "slideshow": {
     "slide_type": ""
    },
    "tags": []
   },
   "outputs": [],
   "source": [
    "from IPython.display import display, Markdown"
   ]
  },
  {
   "cell_type": "code",
   "execution_count": null,
   "id": "dce4db04-3953-4356-b4cd-7f811e6ac563",
   "metadata": {
    "papermill": {
     "duration": 1.057301,
     "end_time": "2025-04-04T16:23:52.420017",
     "exception": false,
     "start_time": "2025-04-04T16:23:51.362716",
     "status": "completed"
    },
    "tags": []
   },
   "outputs": [],
   "source": [
    "# Dynamically generate markdown content\n",
    "markdown_text = f\" This notebook compares area-weighted maps, in some cases, vertical profiles for {variable} in different basins.\"\n",
    "\n",
    "# Display the updated markdown content\n",
    "display(Markdown(markdown_text))"
   ]
  },
  {
   "cell_type": "code",
   "execution_count": null,
   "id": "13834ab8-5413-4cd4-8b72-d02389459983",
   "metadata": {
    "editable": true,
    "papermill": {
     "duration": 0.120028,
     "end_time": "2025-04-04T16:23:52.543713",
     "exception": false,
     "start_time": "2025-04-04T16:23:52.423685",
     "status": "completed"
    },
    "slideshow": {
     "slide_type": ""
    },
    "tags": []
   },
   "outputs": [],
   "source": [
    "%load_ext autoreload\n",
    "%autoreload 2"
   ]
  },
  {
   "cell_type": "code",
   "execution_count": null,
   "id": "ca374cc2",
   "metadata": {
    "editable": true,
    "papermill": {
     "duration": 20.274328,
     "end_time": "2025-04-04T16:24:12.821397",
     "exception": false,
     "start_time": "2025-04-04T16:23:52.547069",
     "status": "completed"
    },
    "slideshow": {
     "slide_type": ""
    },
    "tags": []
   },
   "outputs": [],
   "source": [
    "%%capture \n",
    "# comment above line to see details about the run(s) displayed\n",
    "import sys, os\n",
    "sys.path.append(os.path.abspath(\"..\"))\n",
    "from misc import *\n",
    "import glob\n",
    "print(\"Last update:\", date.today())\n",
    "%matplotlib inline"
   ]
  },
  {
   "cell_type": "code",
   "execution_count": null,
   "id": "04320644-9cc1-483e-bf66-a170f8ee42d0",
   "metadata": {},
   "outputs": [],
   "source": [
    "months = ['January', 'February', 'March', 'April', \n",
    "          'May', 'June', 'July', 'August', 'September', \n",
    "          'October', 'November', 'December']"
   ]
  },
  {
   "cell_type": "code",
   "execution_count": null,
   "id": "7a76c19e-4617-421e-9912-6e37b8b411cd",
   "metadata": {
    "papermill": {
     "duration": 4.945432,
     "end_time": "2025-04-04T16:24:18.211418",
     "exception": false,
     "start_time": "2025-04-04T16:24:13.265986",
     "status": "completed"
    },
    "tags": []
   },
   "outputs": [],
   "source": [
    "# load data\n",
    "ds = []\n",
    "for c, p in zip(casename, climo_path):\n",
    "  file = glob.glob(p+'{}.{}.{}.??????-??????.nc'.format(c, stream, variable))[0]\n",
    "  ds.append(xr.open_dataset(file))"
   ]
  },
  {
   "cell_type": "code",
   "execution_count": null,
   "id": "9524bec5-23e4-424d-8ead-756c0628910b",
   "metadata": {},
   "outputs": [],
   "source": [
    "def identify_xyz_dims(dims):\n",
    "    dims = tuple(dims)\n",
    "\n",
    "    z_options = ['zl', 'z_l', 'zi', 'z_i']\n",
    "    y_options = ['yh', 'yq']\n",
    "    x_options = ['xh', 'xq']\n",
    "\n",
    "    z_dim = next((dim for dim in dims if dim in z_options), None)\n",
    "    y_dim = next((dim for dim in dims if dim in y_options), None)\n",
    "    x_dim = next((dim for dim in dims if dim in x_options), None)\n",
    "\n",
    "    # Set default values for coordinates and area\n",
    "    x_coord = y_coord = area_var = None\n",
    "\n",
    "    if y_dim == 'yh' and x_dim == 'xh':\n",
    "        x_coord = 'geolon'\n",
    "        y_coord = 'geolat'\n",
    "        area_var = 'areacello'\n",
    "    elif y_dim == 'yq' and x_dim == 'xh':\n",
    "        x_coord = 'geolon_v'\n",
    "        y_coord = 'geolat_v'\n",
    "        area_var = 'areacello_cv'\n",
    "    elif y_dim == 'yh' and x_dim == 'xq':\n",
    "        x_coord = 'geolon_u'\n",
    "        y_coord = 'geolat_u'\n",
    "        area_var = 'areacello_cu'\n",
    "\n",
    "    return x_dim, y_dim, z_dim, x_coord, y_coord, area_var\n"
   ]
  },
  {
   "cell_type": "code",
   "execution_count": null,
   "id": "dc18a58c-7def-41e8-b392-53a1c06a6874",
   "metadata": {},
   "outputs": [],
   "source": [
    "dims = identify_xyz_dims(ds[0][variable+'_annual_mean'].dims)"
   ]
  },
  {
   "cell_type": "code",
   "execution_count": null,
   "id": "4556ab09-b123-4211-a2e3-507e0926608a",
   "metadata": {},
   "outputs": [],
   "source": [
    "def annual_plot(variable, dims, label):\n",
    "    area = grd_xr[0][dims[5]].fillna(0)\n",
    "    x = dims[0]; y = dims[1]; z = dims[2]\n",
    "    lon = dims[3]; lat = dims[4] \n",
    "    model = []\n",
    "    for i in range(len(label)):\n",
    "        if z is None:\n",
    "            model.append(np.ma.masked_invalid(ds[i][variable+'_annual_mean'].values))\n",
    "        else:\n",
    "            model.append(np.ma.masked_invalid(ds[i][variable+'_annual_mean'].isel({z: 0}).values))\n",
    "\n",
    "        if i == 0:\n",
    "            xyplot(model[i], \n",
    "                grd_xr[i].geolon.values, grd_xr[i].geolat.values, area.values,\n",
    "                title = 'Annual mean '+str(variable)+ ' ('+str(ds[0].units)+')', \n",
    "                suptitle= label[i]+', '+ str(start_date) + ' to ' + str(end_date), \n",
    "                extend='max')\n",
    "        else:\n",
    "            xyplot((model[i]-model[0]), \n",
    "                grd_xr[i].geolon.values, grd_xr[i].geolat.values, area.values,\n",
    "                title = 'Annual mean '+str(variable)+ ' ('+str(ds[0].units)+')', \n",
    "                suptitle= label[i]+' - '+label[0]+', '+ str(start_date) + ' to ' + str(end_date), \n",
    "                extend='max')\n",
    "            \n",
    "    fig, ax = plt.subplots(figsize=(8,4))\n",
    "    for i in range(len(label)):\n",
    "        if z is None:\n",
    "            ds[i][variable+'_annual_mean'].weighted(area).mean(x).plot(y=y, \n",
    "                                            ax=ax, label=label[i])\n",
    "        else:\n",
    "            ds[i][variable+'_annual_mean'].isel({z: 0}).weighted(area).mean(x).plot(y=y, \n",
    "                                            ax=ax, label=label[i])\n",
    "            \n",
    "    ax.set_title('Zonally averaged '+str(variable)+' ('+str(ds[0].units)+'), annual mean')\n",
    "    ax.grid()\n",
    "    ax.legend();\n",
    "    return"
   ]
  },
  {
   "cell_type": "markdown",
   "id": "3ca669cf-5979-44ab-948a-12ceeec8c25b",
   "metadata": {},
   "source": [
    "## Annual mean"
   ]
  },
  {
   "cell_type": "code",
   "execution_count": null,
   "id": "c3517154-df78-45a5-99e5-a15ea5b7ac16",
   "metadata": {},
   "outputs": [],
   "source": [
    "annual_plot(variable, dims, label)"
   ]
  },
  {
   "cell_type": "markdown",
   "id": "502465ab-ff8d-4a56-82eb-96eb140f2fb9",
   "metadata": {
    "papermill": {
     "duration": 0.003261,
     "end_time": "2025-04-04T16:24:18.329971",
     "exception": false,
     "start_time": "2025-04-04T16:24:18.326710",
     "status": "completed"
    },
    "tags": []
   },
   "source": [
    "## Monthly climatology"
   ]
  },
  {
   "cell_type": "code",
   "execution_count": null,
   "id": "24f42a8f-a712-4e90-ae4b-7c83afb6ebdc",
   "metadata": {},
   "outputs": [],
   "source": [
    "area = grd_xr[0][dims[5]].fillna(0)\n",
    "x = dims[0]; y = dims[1]; z = dims[2]\n",
    "lon = dims[3]; lat = dims[4]\n",
    "model = []\n",
    "for i in range(len(label)):\n",
    "    if z is None:\n",
    "        model.append(ds[i][variable+'_monthly_climatology'])\n",
    "    else:\n",
    "        model.append(ds[i][variable+'_monthly_climatology'].isel({z: 0}))\n",
    "        \n",
    "    if i == 0:\n",
    "        g = model[i].plot(x='geolon', y='geolat', col='month', col_wrap=3,\n",
    "            figsize=(12,12), robust=True,\n",
    "            cbar_kwargs={\"label\": variable + ' ({})'.format(str(ds[0].units)),\n",
    "                        \"orientation\": \"horizontal\", 'shrink': 0.8, 'pad': 0.05})\n",
    "        \n",
    "        plt.suptitle(label[i]+ ', ' +str(start_date) + ' to ' + str(end_date), y=1.02, fontsize=17)  \n",
    "\n",
    "    else:\n",
    "        g = (model[i]-model[0]).plot(x='geolon', y='geolat', col='month', col_wrap=3,\n",
    "            figsize=(12,12), robust=True,\n",
    "            cbar_kwargs={\"label\": variable + ' ({})'.format(str(ds[0].units)),\n",
    "                        \"orientation\": \"horizontal\", 'shrink': 0.8, 'pad': 0.05})\n",
    "        plt.suptitle(label[i] + ' - ' + label[0]+ ', ' +str(start_date) + ' to ' + str(end_date), \n",
    "                     y=1.02, fontsize=17)  "
   ]
  },
  {
   "cell_type": "code",
   "execution_count": null,
   "id": "41fcfa6d-12e6-4468-aace-12d24d90a5dc",
   "metadata": {},
   "outputs": [],
   "source": [
    "def monthly_plot(variable, dims, label, m):\n",
    "    area = grd_xr[0][dims[5]].fillna(0)\n",
    "    x = dims[0]; y = dims[1]; z = dims[2]\n",
    "    lon = dims[3]; lat = dims[4]\n",
    "          \n",
    "    fig, ax = plt.subplots(figsize=(8,4))\n",
    "    for i in range(len(label)):\n",
    "        if z is None:\n",
    "            ds[i][variable+'_monthly_climatology'].isel(month=m).weighted(area).mean(x).plot(y=y, \n",
    "                                               ax=ax, label=label[i])\n",
    "        else:\n",
    "            ds[i][variable+'_monthly_climatology'].isel({z: 0, 'month': m}).weighted(area).mean(x).plot(y=y, \n",
    "                                                ax=ax, label=label[i])\n",
    "    ax.set_title(str(months[m])+', zonally averaged '+str(variable)+' ('+str(ds[0].units)+')')\n",
    "    ax.grid()\n",
    "    ax.legend();\n",
    "    return"
   ]
  },
  {
   "cell_type": "markdown",
   "id": "1cfcf14c-8abd-499b-af26-68bec49b546d",
   "metadata": {},
   "source": [
    "### January"
   ]
  },
  {
   "cell_type": "code",
   "execution_count": null,
   "id": "ea77f10f-3d7e-4191-a3d1-8bcd7318125c",
   "metadata": {
    "papermill": {
     "duration": 0.358095,
     "end_time": "2025-04-04T16:24:18.691839",
     "exception": false,
     "start_time": "2025-04-04T16:24:18.333744",
     "status": "completed"
    },
    "tags": []
   },
   "outputs": [],
   "source": [
    "m=0\n",
    "monthly_plot(variable, dims, label, m)"
   ]
  },
  {
   "cell_type": "markdown",
   "id": "b8b4dc27-3be0-4973-8bdd-4a0de25e4316",
   "metadata": {
    "papermill": {
     "duration": 0.003787,
     "end_time": "2025-04-04T16:24:18.699687",
     "exception": false,
     "start_time": "2025-04-04T16:24:18.695900",
     "status": "completed"
    },
    "tags": []
   },
   "source": [
    "### February"
   ]
  },
  {
   "cell_type": "code",
   "execution_count": null,
   "id": "11b61be4-fdcf-475c-a524-2a3ac8c76ecf",
   "metadata": {
    "papermill": {
     "duration": 2.924475,
     "end_time": "2025-04-04T16:24:21.627908",
     "exception": false,
     "start_time": "2025-04-04T16:24:18.703433",
     "status": "completed"
    },
    "tags": []
   },
   "outputs": [],
   "source": [
    "m=1\n",
    "monthly_plot(variable, dims, label, m)"
   ]
  },
  {
   "cell_type": "markdown",
   "id": "fa711e4f-4e29-4094-ada2-4ae38e234a82",
   "metadata": {
    "papermill": {
     "duration": 0.004157,
     "end_time": "2025-04-04T16:24:21.676051",
     "exception": false,
     "start_time": "2025-04-04T16:24:21.671894",
     "status": "completed"
    },
    "tags": []
   },
   "source": [
    "### March"
   ]
  },
  {
   "cell_type": "code",
   "execution_count": null,
   "id": "a40d43fe-7d25-414c-8d87-79517880d35f",
   "metadata": {
    "papermill": {
     "duration": 1.697763,
     "end_time": "2025-04-04T16:24:23.377787",
     "exception": false,
     "start_time": "2025-04-04T16:24:21.680024",
     "status": "completed"
    },
    "tags": []
   },
   "outputs": [],
   "source": [
    "m=2\n",
    "monthly_plot(variable, dims, label, m)"
   ]
  },
  {
   "cell_type": "markdown",
   "id": "88ad3620-a8da-4180-83d1-f39edfd5aae2",
   "metadata": {
    "papermill": {
     "duration": 0.004992,
     "end_time": "2025-04-04T16:24:23.389241",
     "exception": false,
     "start_time": "2025-04-04T16:24:23.384249",
     "status": "completed"
    },
    "tags": []
   },
   "source": [
    "### April"
   ]
  },
  {
   "cell_type": "code",
   "execution_count": null,
   "id": "6e85f68d-eb4e-44fe-acba-84c08de56905",
   "metadata": {
    "papermill": {
     "duration": 0.307298,
     "end_time": "2025-04-04T16:24:23.700970",
     "exception": false,
     "start_time": "2025-04-04T16:24:23.393672",
     "status": "completed"
    },
    "tags": []
   },
   "outputs": [],
   "source": [
    "m=3\n",
    "monthly_plot(variable, dims, label, m)"
   ]
  },
  {
   "cell_type": "markdown",
   "id": "9c5641d3-c954-411b-abee-d4825c4208ab",
   "metadata": {
    "papermill": {
     "duration": 0.005197,
     "end_time": "2025-04-04T16:24:23.711839",
     "exception": false,
     "start_time": "2025-04-04T16:24:23.706642",
     "status": "completed"
    },
    "tags": []
   },
   "source": [
    "### May"
   ]
  },
  {
   "cell_type": "code",
   "execution_count": null,
   "id": "67297917-8d56-4a6d-9d59-a478035429a1",
   "metadata": {
    "papermill": {
     "duration": 0.286347,
     "end_time": "2025-04-04T16:24:24.003363",
     "exception": false,
     "start_time": "2025-04-04T16:24:23.717016",
     "status": "completed"
    },
    "tags": []
   },
   "outputs": [],
   "source": [
    "m=4\n",
    "monthly_plot(variable, dims, label, m)"
   ]
  },
  {
   "cell_type": "markdown",
   "id": "0543bf55-997b-4ac3-b22b-76c7f52ee97b",
   "metadata": {
    "papermill": {
     "duration": 0.005775,
     "end_time": "2025-04-04T16:24:24.015244",
     "exception": false,
     "start_time": "2025-04-04T16:24:24.009469",
     "status": "completed"
    },
    "tags": []
   },
   "source": [
    "### June"
   ]
  },
  {
   "cell_type": "code",
   "execution_count": null,
   "id": "198da03e-467e-49f3-b8a5-2a31ad3b9711",
   "metadata": {
    "papermill": {
     "duration": 0.281033,
     "end_time": "2025-04-04T16:24:24.301886",
     "exception": false,
     "start_time": "2025-04-04T16:24:24.020853",
     "status": "completed"
    },
    "tags": []
   },
   "outputs": [],
   "source": [
    "m=5\n",
    "monthly_plot(variable, dims, label, m)"
   ]
  },
  {
   "cell_type": "markdown",
   "id": "44aa11d1-830c-45a8-9235-0a03ec35daa6",
   "metadata": {
    "papermill": {
     "duration": 0.006145,
     "end_time": "2025-04-04T16:24:24.314843",
     "exception": false,
     "start_time": "2025-04-04T16:24:24.308698",
     "status": "completed"
    },
    "tags": []
   },
   "source": [
    "### July"
   ]
  },
  {
   "cell_type": "code",
   "execution_count": null,
   "id": "0fa02937-1b4e-4ade-a803-d2994b12545f",
   "metadata": {
    "papermill": {
     "duration": 0.305533,
     "end_time": "2025-04-04T16:24:24.626231",
     "exception": false,
     "start_time": "2025-04-04T16:24:24.320698",
     "status": "completed"
    },
    "tags": []
   },
   "outputs": [],
   "source": [
    "m=6\n",
    "monthly_plot(variable, dims, label, m)"
   ]
  },
  {
   "cell_type": "markdown",
   "id": "e29ef839-e162-4ceb-927a-d82b7a59277e",
   "metadata": {
    "papermill": {
     "duration": 0.006772,
     "end_time": "2025-04-04T16:24:24.640251",
     "exception": false,
     "start_time": "2025-04-04T16:24:24.633479",
     "status": "completed"
    },
    "tags": []
   },
   "source": [
    "### August"
   ]
  },
  {
   "cell_type": "code",
   "execution_count": null,
   "id": "64880ae9-0688-4c3a-ab45-0e76d5284852",
   "metadata": {
    "papermill": {
     "duration": 0.287652,
     "end_time": "2025-04-04T16:24:24.934598",
     "exception": false,
     "start_time": "2025-04-04T16:24:24.646946",
     "status": "completed"
    },
    "tags": []
   },
   "outputs": [],
   "source": [
    "m=7\n",
    "monthly_plot(variable, dims, label, m)"
   ]
  },
  {
   "cell_type": "markdown",
   "id": "1de03483-3233-4881-86a7-06813ce0211f",
   "metadata": {
    "papermill": {
     "duration": 0.007181,
     "end_time": "2025-04-04T16:24:24.949355",
     "exception": false,
     "start_time": "2025-04-04T16:24:24.942174",
     "status": "completed"
    },
    "tags": []
   },
   "source": [
    "### September"
   ]
  },
  {
   "cell_type": "code",
   "execution_count": null,
   "id": "d8be41b0-a06e-4bac-ad2f-72b3dc32a3c1",
   "metadata": {
    "papermill": {
     "duration": 0.27001,
     "end_time": "2025-04-04T16:24:25.226493",
     "exception": false,
     "start_time": "2025-04-04T16:24:24.956483",
     "status": "completed"
    },
    "tags": []
   },
   "outputs": [],
   "source": [
    "m=8\n",
    "monthly_plot(variable, dims, label, m)"
   ]
  },
  {
   "cell_type": "markdown",
   "id": "1b5bb92f-04ee-4edb-844a-dc32285a3017",
   "metadata": {
    "papermill": {
     "duration": 0.00763,
     "end_time": "2025-04-04T16:24:25.242286",
     "exception": false,
     "start_time": "2025-04-04T16:24:25.234656",
     "status": "completed"
    },
    "tags": []
   },
   "source": [
    "### October"
   ]
  },
  {
   "cell_type": "code",
   "execution_count": null,
   "id": "c7a7a1b2-7665-4f42-aa57-3e8ccf255528",
   "metadata": {
    "papermill": {
     "duration": 0.260968,
     "end_time": "2025-04-04T16:24:25.510650",
     "exception": false,
     "start_time": "2025-04-04T16:24:25.249682",
     "status": "completed"
    },
    "tags": []
   },
   "outputs": [],
   "source": [
    "m=9\n",
    "monthly_plot(variable, dims, label, m)"
   ]
  },
  {
   "cell_type": "markdown",
   "id": "bfa1406b-88fb-4638-a11c-9b530c50e48b",
   "metadata": {
    "papermill": {
     "duration": 0.008067,
     "end_time": "2025-04-04T16:24:25.527508",
     "exception": false,
     "start_time": "2025-04-04T16:24:25.519441",
     "status": "completed"
    },
    "tags": []
   },
   "source": [
    "### November"
   ]
  },
  {
   "cell_type": "code",
   "execution_count": null,
   "id": "674dc694-f91c-48d8-8cf9-18a9dc35dd87",
   "metadata": {
    "papermill": {
     "duration": 0.273634,
     "end_time": "2025-04-04T16:24:25.809050",
     "exception": false,
     "start_time": "2025-04-04T16:24:25.535416",
     "status": "completed"
    },
    "tags": []
   },
   "outputs": [],
   "source": [
    "m=10\n",
    "monthly_plot(variable, dims, label, m)"
   ]
  },
  {
   "cell_type": "markdown",
   "id": "36a07721-9d05-42e2-b24d-a559f814478b",
   "metadata": {
    "papermill": {
     "duration": 0.008225,
     "end_time": "2025-04-04T16:24:25.825957",
     "exception": false,
     "start_time": "2025-04-04T16:24:25.817732",
     "status": "completed"
    },
    "tags": []
   },
   "source": [
    "### December"
   ]
  },
  {
   "cell_type": "code",
   "execution_count": null,
   "id": "5f6bc7ed-e959-49ad-8916-e307249b43fc",
   "metadata": {
    "papermill": {
     "duration": 0.538279,
     "end_time": "2025-04-04T16:24:26.372562",
     "exception": false,
     "start_time": "2025-04-04T16:24:25.834283",
     "status": "completed"
    },
    "tags": []
   },
   "outputs": [],
   "source": [
    "m=11\n",
    "monthly_plot(variable, dims, label, m)"
   ]
  },
  {
   "cell_type": "markdown",
   "id": "afebb2ad-fc6c-43bf-b816-0f18afe3ff94",
   "metadata": {},
   "source": [
    "## By basins"
   ]
  },
  {
   "cell_type": "markdown",
   "id": "fcbd4707-b546-4cf9-ae25-14e06221b540",
   "metadata": {},
   "source": [
    "### Monthly climo @ surface"
   ]
  },
  {
   "cell_type": "code",
   "execution_count": null,
   "id": "b8cce1ca-acdc-421c-9a99-ce08654d6227",
   "metadata": {},
   "outputs": [],
   "source": [
    "# GMM, update this\n",
    "basin_code = xr.open_dataset('/glade/work/gmarques/cesm/tx2_3/basin_masks/basin_masks_tx2_3v2_20250318.nc')['basin_masks']"
   ]
  },
  {
   "cell_type": "code",
   "execution_count": null,
   "id": "08b6f697-14ea-4f52-8613-90e10dce58f3",
   "metadata": {},
   "outputs": [],
   "source": [
    "area = grd_xr[0][dims[5]].fillna(0)\n",
    "x = dims[0]; y = dims[1]; z = dims[2]\n",
    "model_mean_wgt = []\n",
    "    \n",
    "for i in range(len(label)):\n",
    "    basin_code_dummy = basin_code.rename({'yh': y, 'xh': x})\n",
    "    if z is None:\n",
    "        model = ds[i][variable+'_monthly_climatology']\n",
    "    else:\n",
    "        model = ds[i][variable+'_monthly_climatology'].isel({z: 0})\n",
    "    \n",
    "    model_mean_wgt.append((model * basin_code_dummy).weighted(area*basin_code_dummy).mean(dim=[y, x]))\n",
    "        \n",
    "for i in range(len(label)):\n",
    "    g = model_mean_wgt[i].plot(x=\"month\", yincrease=False, col=\"region\", col_wrap=5, label=label[i])\n",
    "    \n",
    "fig = g.fig  # not g.figure\n",
    "fig.suptitle(str(variable)+' ('+str(ds[0].units)+')', fontsize=16)\n",
    "fig.tight_layout()\n",
    "fig.subplots_adjust(top=0.9)\n",
    "for ax in g.axes.flat:\n",
    "    ax.grid(True);\n",
    "ax.legend()"
   ]
  },
  {
   "cell_type": "markdown",
   "id": "316d3ac3-84c8-47b5-b8c4-d3b055fdcf11",
   "metadata": {},
   "source": [
    "### Vertical profiles\n",
    "Averaged over annual means"
   ]
  },
  {
   "cell_type": "code",
   "execution_count": null,
   "id": "9174f55f-dc31-4cbe-8a2f-b99ad945a7b1",
   "metadata": {},
   "outputs": [],
   "source": [
    "z_max=1000 # change this to 6000 to see full profile\n",
    "\n",
    "if stream == 'z' and (z == 'z_l' or z == 'z_i'):\n",
    "\n",
    "    model_mean_wgt = []\n",
    "    \n",
    "    for i in range(len(label)):\n",
    "        basin_code_dummy = basin_code.rename({'yh': y, 'xh': x})\n",
    "        model = ds[i][variable+'_annual_mean']\n",
    "        \n",
    "        model_mean_wgt.append((model * basin_code_dummy).weighted(area*basin_code_dummy).mean(dim=[y, x]))\n",
    "            \n",
    "    for i in range(len(label)):\n",
    "        g = model_mean_wgt[i].sel(**{z: slice(0., z_max)}).plot(y=z, yincrease=False, col=\"region\", col_wrap=5, label=label[i])\n",
    "    \n",
    "    fig = g.fig  # not g.figure\n",
    "    fig.suptitle(str(variable)+' ('+str(ds[0].units)+')', fontsize=16)\n",
    "    fig.tight_layout()\n",
    "    fig.subplots_adjust(top=0.9)\n",
    "    plt.legend()\n",
    "    for ax in g.axes.flat:\n",
    "        ax.grid(True);"
   ]
  }
 ],
 "metadata": {
  "kernelspec": {
   "display_name": "Python (mom6-tools)",
   "language": "python",
   "name": "mom6-tools"
  },
  "language_info": {
   "codemirror_mode": {
    "name": "ipython",
    "version": 3
   },
   "file_extension": ".py",
   "mimetype": "text/x-python",
   "name": "python",
   "nbconvert_exporter": "python",
   "pygments_lexer": "ipython3",
   "version": "3.11.9"
  },
  "papermill": {
   "default_parameters": {},
   "duration": 42.48361,
   "end_time": "2025-04-04T16:24:29.316769",
   "environment_variables": {},
   "exception": null,
   "input_path": "/glade/u/home/gmarques/libs/mom6-tools/mom6_tools/nb_templates/ts.ipynb",
   "output_path": "vprec.ipynb",
   "parameters": {
    "variable": "vprec"
   },
   "start_time": "2025-04-04T16:23:46.833159",
   "version": "2.6.0"
  }
 },
 "nbformat": 4,
 "nbformat_minor": 5
}
